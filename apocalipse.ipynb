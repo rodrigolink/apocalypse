{
 "cells": [
  {
   "cell_type": "markdown",
   "metadata": {},
   "source": [
    "# Welcome to the Brazilian Apocalypse!"
   ]
  },
  {
   "cell_type": "markdown",
   "metadata": {},
   "source": [
    "We are currently on the second year of the Coronavirus pandemic. It is obvious the institutions aren't ready to face extreme conditions for a prolonged period of time, and neither are the people. While there is a large community of paranoid people in the US who are ready to survive the extinction of civilization, in Brazil this scenario is not something we consider when thinking about the future."
   ]
  },
  {
   "cell_type": "markdown",
   "metadata": {},
   "source": [
    "Brazil is a country with continental dimensions, with more than 220 million people spread over 8.5 million square kilometers. There must be some dark forgotten places where one could ride out an extinction level event. There are more than five thousand cities and we will sort through different types of data to determine the best places to enjoy the end of the world."
   ]
  },
  {
   "cell_type": "markdown",
   "metadata": {},
   "source": [
    "After ranking the cities from best to worst, we will try to optimize our escape route, choosing our starting city and defining the sequence of cities to get to our final destination. "
   ]
  },
  {
   "cell_type": "markdown",
   "metadata": {},
   "source": [
    "## 1. Definition of the problem"
   ]
  },
  {
   "cell_type": "markdown",
   "metadata": {},
   "source": [
    "There are several different causes for an apocalypse, and people are getting more creative everyday. Zombies, nuclear war, large asteroids, deadly viruses, global warming, exploding volcanoes, massive earthquakes, alien invasion! Although there are huge variations on each of these scenarios, we can look for some information that will help no matter what comes our way. "
   ]
  },
  {
   "cell_type": "markdown",
   "metadata": {},
   "source": [
    "Crowded places should be avoided, food must be plentiful, fresh water must be available. We also need medication to cure and prevent diseases, and firearms for protection. It would be smart to be away from nuclear power plants, but solar energy might be useful. Average temperatures around 22 degrees are a good choice. Being close to an airport shoud be interesting, even a small one, for a quick getaway, if you can find and fly a plane. "
   ]
  },
  {
   "cell_type": "markdown",
   "metadata": {},
   "source": [
    "We should also be worried about rebuilding civilization, so we also looking at libraries and universities."
   ]
  },
  {
   "cell_type": "markdown",
   "metadata": {},
   "source": [
    "We will load data that helps to determine the potential for each city to fulfill one of this requirements, describing its source and how we create a metric to rank the cities. After processing all this information, our final data set will be a table where each row is a city and each column will show a score between 0 and 1 for a certain feature. Our last feature will be the sum of all scores, and we will rank the cities by this metric. Hopefully, we will have a clear winner for the whole country. "
   ]
  },
  {
   "cell_type": "markdown",
   "metadata": {},
   "source": [
    "We also have a list of neighboring cities for each location. So we can map a route from any place to the our sanctuary or try to find the best place at a certain distance from a starting point."
   ]
  },
  {
   "cell_type": "markdown",
   "metadata": {},
   "source": [
    "## 2. Extraction, Transformation and Loading of the Data"
   ]
  },
  {
   "cell_type": "markdown",
   "metadata": {},
   "source": [
    "We are gathering here several different information for each Brazilian city. They were all gathered after a long, hard search through several government websites and other sources. We will present the source, the available info and the transformations needed to get our clean table."
   ]
  },
  {
   "cell_type": "markdown",
   "metadata": {},
   "source": [
    "All the libraries needed will be loaded here."
   ]
  },
  {
   "cell_type": "code",
   "execution_count": 42,
   "metadata": {},
   "outputs": [],
   "source": [
    "import pandas as pd\n",
    "import requests\n",
    "from bs4 import BeautifulSoup\n",
    "import os\n",
    "import folium"
   ]
  },
  {
   "cell_type": "markdown",
   "metadata": {},
   "source": [
    "### 2.1. 2013 Brazilian Human Development Atlas"
   ]
  },
  {
   "cell_type": "markdown",
   "metadata": {},
   "source": [
    "The Human Development Index (HDI) is a statistic composite index of life expectancy, education, and per capita income indicators. In 2013, the latest report was released, showing the scores for each city, state and the country as a whole, for the years 1990, 2000 and 2010. It can be accessed at <a href=\"http://www.atlasbrasil.org.br/\">Atlas Brasil</a>."
   ]
  },
  {
   "cell_type": "markdown",
   "metadata": {},
   "source": [
    "Each row of the table represents a city for one of the given years. There are some ID columns and then all the features that are used to compute the score, the Human Development Index, for each city. From this table, we will need three columns:\n",
    "1. the city ID;\n",
    "2. the city population in 2010;\n",
    "3. the health portion of the HDI in 2010."
   ]
  },
  {
   "cell_type": "markdown",
   "metadata": {},
   "source": [
    "The ID will be used as a key to merge all the different data into a single table. The population will be used to compute the population density, and the Health HDI will be used as an indication of how well the city is capable of handle medical emergencies."
   ]
  },
  {
   "cell_type": "code",
   "execution_count": 65,
   "metadata": {},
   "outputs": [
    {
     "name": "stderr",
     "output_type": "stream",
     "text": [
      "<ipython-input-65-81a67aa98e03>:8: SettingWithCopyWarning: \n",
      "A value is trying to be set on a copy of a slice from a DataFrame.\n",
      "Try using .loc[row_indexer,col_indexer] = value instead\n",
      "\n",
      "See the caveats in the documentation: https://pandas.pydata.org/pandas-docs/stable/user_guide/indexing.html#returning-a-view-versus-a-copy\n",
      "  df_atlas_clean['Codmun6'] = df_atlas_clean['Codmun6'].astype(str)\n",
      "<ipython-input-65-81a67aa98e03>:9: SettingWithCopyWarning: \n",
      "A value is trying to be set on a copy of a slice from a DataFrame.\n",
      "Try using .loc[row_indexer,col_indexer] = value instead\n",
      "\n",
      "See the caveats in the documentation: https://pandas.pydata.org/pandas-docs/stable/user_guide/indexing.html#returning-a-view-versus-a-copy\n",
      "  df_atlas_clean['Codmun7'] = df_atlas_clean['Codmun7'].astype(str)\n",
      "/home/rodrigolink/anaconda3/lib/python3.8/site-packages/pandas/core/frame.py:4296: SettingWithCopyWarning: \n",
      "A value is trying to be set on a copy of a slice from a DataFrame\n",
      "\n",
      "See the caveats in the documentation: https://pandas.pydata.org/pandas-docs/stable/user_guide/indexing.html#returning-a-view-versus-a-copy\n",
      "  return super().rename(\n"
     ]
    },
    {
     "data": {
      "text/html": [
       "<div>\n",
       "<style scoped>\n",
       "    .dataframe tbody tr th:only-of-type {\n",
       "        vertical-align: middle;\n",
       "    }\n",
       "\n",
       "    .dataframe tbody tr th {\n",
       "        vertical-align: top;\n",
       "    }\n",
       "\n",
       "    .dataframe thead th {\n",
       "        text-align: right;\n",
       "    }\n",
       "</style>\n",
       "<table border=\"1\" class=\"dataframe\">\n",
       "  <thead>\n",
       "    <tr style=\"text-align: right;\">\n",
       "      <th></th>\n",
       "      <th>CityID</th>\n",
       "      <th>CityID_7</th>\n",
       "      <th>Population</th>\n",
       "      <th>Health_Index</th>\n",
       "    </tr>\n",
       "  </thead>\n",
       "  <tbody>\n",
       "    <tr>\n",
       "      <th>0</th>\n",
       "      <td>110001</td>\n",
       "      <td>1100015</td>\n",
       "      <td>24392</td>\n",
       "      <td>0.763</td>\n",
       "    </tr>\n",
       "    <tr>\n",
       "      <th>1</th>\n",
       "      <td>110002</td>\n",
       "      <td>1100023</td>\n",
       "      <td>90353</td>\n",
       "      <td>0.806</td>\n",
       "    </tr>\n",
       "    <tr>\n",
       "      <th>2</th>\n",
       "      <td>110003</td>\n",
       "      <td>1100031</td>\n",
       "      <td>6313</td>\n",
       "      <td>0.757</td>\n",
       "    </tr>\n",
       "    <tr>\n",
       "      <th>3</th>\n",
       "      <td>110004</td>\n",
       "      <td>1100049</td>\n",
       "      <td>78574</td>\n",
       "      <td>0.821</td>\n",
       "    </tr>\n",
       "    <tr>\n",
       "      <th>4</th>\n",
       "      <td>110005</td>\n",
       "      <td>1100056</td>\n",
       "      <td>17029</td>\n",
       "      <td>0.799</td>\n",
       "    </tr>\n",
       "  </tbody>\n",
       "</table>\n",
       "</div>"
      ],
      "text/plain": [
       "   CityID CityID_7  Population  Health_Index\n",
       "0  110001  1100015       24392         0.763\n",
       "1  110002  1100023       90353         0.806\n",
       "2  110003  1100031        6313         0.757\n",
       "3  110004  1100049       78574         0.821\n",
       "4  110005  1100056       17029         0.799"
      ]
     },
     "execution_count": 65,
     "metadata": {},
     "output_type": "execute_result"
    }
   ],
   "source": [
    "#loading the file, bringing the sheet with the information for the cities\n",
    "df_atlas = pd.read_excel('Atlas 2013_municipal, estadual e Brasil.xlsx', sheet_name='MUN 91-00-10')\n",
    "#filtering for 2010\n",
    "df_atlas = df_atlas[df_atlas['ANO']==2010]\n",
    "#keeping only the needed features\n",
    "df_atlas_clean = df_atlas[['Codmun6','Codmun7','pesotot','IDHM_L']]\n",
    "#the ID will be turned into a string\n",
    "df_atlas_clean['Codmun6'] = df_atlas_clean['Codmun6'].astype(str)\n",
    "df_atlas_clean['Codmun7'] = df_atlas_clean['Codmun7'].astype(str)\n",
    "\n",
    "#renaming columns\n",
    "df_atlas_clean.rename(columns = {'Codmun6':'CityID', 'Codmun7':'CityID_7', 'pesotot':'Population',\n",
    "                              'IDHM_L':'Health_Index'}, inplace = True)\n",
    "df_atlas_clean = df_atlas_clean.reset_index(drop=True)\n",
    "df_atlas_clean.head()"
   ]
  },
  {
   "cell_type": "code",
   "execution_count": 3,
   "metadata": {},
   "outputs": [
    {
     "data": {
      "text/plain": [
       "5565"
      ]
     },
     "execution_count": 3,
     "metadata": {},
     "output_type": "execute_result"
    }
   ],
   "source": [
    "len(df_atlas_clean)"
   ]
  },
  {
   "cell_type": "markdown",
   "metadata": {},
   "source": [
    "### 2.2. Territorial Data from IBGE - Brazilian Institute of Geography and Statistics"
   ]
  },
  {
   "cell_type": "markdown",
   "metadata": {},
   "source": [
    "There are a lot of information available at the IBGE website, and at this time we will focus on the area of each of the cities, available at <a href=\"https://www.ibge.gov.br/geociencias/organizacao-do-territorio/estrutura-territorial/15761-areas-dos-municipios.html\">Áreas Territoriais</a>. This will allow us to compute the population density. We will also keep the name and the state of each city, because we will need to use that for data sets that don't have the cityID."
   ]
  },
  {
   "cell_type": "code",
   "execution_count": 4,
   "metadata": {},
   "outputs": [
    {
     "name": "stderr",
     "output_type": "stream",
     "text": [
      "<ipython-input-4-293b5d2cc748>:6: SettingWithCopyWarning: \n",
      "A value is trying to be set on a copy of a slice from a DataFrame.\n",
      "Try using .loc[row_indexer,col_indexer] = value instead\n",
      "\n",
      "See the caveats in the documentation: https://pandas.pydata.org/pandas-docs/stable/user_guide/indexing.html#returning-a-view-versus-a-copy\n",
      "  df_area_clean['CD_GCMUN'] = df_area_clean['CD_GCMUN'].astype(str).str[:6]\n",
      "<ipython-input-4-293b5d2cc748>:8: SettingWithCopyWarning: \n",
      "A value is trying to be set on a copy of a slice from a DataFrame.\n",
      "Try using .loc[row_indexer,col_indexer] = value instead\n",
      "\n",
      "See the caveats in the documentation: https://pandas.pydata.org/pandas-docs/stable/user_guide/indexing.html#returning-a-view-versus-a-copy\n",
      "  df_area_clean['citystate'] = (df_area_clean['NM_MUN_2020']+'-'+df_area_clean['NM_UF_SIGLA']).str.lower()\n"
     ]
    },
    {
     "data": {
      "text/html": [
       "<div>\n",
       "<style scoped>\n",
       "    .dataframe tbody tr th:only-of-type {\n",
       "        vertical-align: middle;\n",
       "    }\n",
       "\n",
       "    .dataframe tbody tr th {\n",
       "        vertical-align: top;\n",
       "    }\n",
       "\n",
       "    .dataframe thead th {\n",
       "        text-align: right;\n",
       "    }\n",
       "</style>\n",
       "<table border=\"1\" class=\"dataframe\">\n",
       "  <thead>\n",
       "    <tr style=\"text-align: right;\">\n",
       "      <th></th>\n",
       "      <th>CityID</th>\n",
       "      <th>Area</th>\n",
       "      <th>citystate</th>\n",
       "    </tr>\n",
       "  </thead>\n",
       "  <tbody>\n",
       "    <tr>\n",
       "      <th>0</th>\n",
       "      <td>110001</td>\n",
       "      <td>7067.127</td>\n",
       "      <td>alta floresta d'oeste-ro</td>\n",
       "    </tr>\n",
       "    <tr>\n",
       "      <th>1</th>\n",
       "      <td>110002</td>\n",
       "      <td>4426.571</td>\n",
       "      <td>ariquemes-ro</td>\n",
       "    </tr>\n",
       "    <tr>\n",
       "      <th>2</th>\n",
       "      <td>110003</td>\n",
       "      <td>1314.352</td>\n",
       "      <td>cabixi-ro</td>\n",
       "    </tr>\n",
       "    <tr>\n",
       "      <th>3</th>\n",
       "      <td>110004</td>\n",
       "      <td>3793.000</td>\n",
       "      <td>cacoal-ro</td>\n",
       "    </tr>\n",
       "    <tr>\n",
       "      <th>4</th>\n",
       "      <td>110005</td>\n",
       "      <td>2783.300</td>\n",
       "      <td>cerejeiras-ro</td>\n",
       "    </tr>\n",
       "  </tbody>\n",
       "</table>\n",
       "</div>"
      ],
      "text/plain": [
       "   CityID      Area                 citystate\n",
       "0  110001  7067.127  alta floresta d'oeste-ro\n",
       "1  110002  4426.571              ariquemes-ro\n",
       "2  110003  1314.352                 cabixi-ro\n",
       "3  110004  3793.000                 cacoal-ro\n",
       "4  110005  2783.300             cerejeiras-ro"
      ]
     },
     "execution_count": 4,
     "metadata": {},
     "output_type": "execute_result"
    }
   ],
   "source": [
    "#loading the file, bringing the sheet with the information for the cities\n",
    "df_area = pd.read_excel('AR_BR_RG_UF_RGINT_RGIM_MES_MIC_MUN_2020.xls', sheet_name='AR_BR_MUN_2020')\n",
    "#keeping only the needed features\n",
    "df_area_clean = df_area[['CD_GCMUN','AR_MUN_2020','NM_MUN_2020','NM_UF_SIGLA']]\n",
    "#the ID will be turned into a string and removing last digit\n",
    "df_area_clean['CD_GCMUN'] = df_area_clean['CD_GCMUN'].astype(str).str[:6]\n",
    "#turning the name and state into a single column, inlowercase\n",
    "df_area_clean['citystate'] = (df_area_clean['NM_MUN_2020']+'-'+df_area_clean['NM_UF_SIGLA']).str.lower()\n",
    "#keeping only the needed features\n",
    "df_area_clean = df_area_clean[['CD_GCMUN','AR_MUN_2020','citystate']]\n",
    "#renaming columns\n",
    "df_area_clean.rename(columns = {'CD_GCMUN':'CityID', 'AR_MUN_2020':'Area'}, \n",
    "                     inplace = True)\n",
    "df_area_clean = df_area_clean.reset_index(drop=True)\n",
    "\n",
    "df_area_clean.head()"
   ]
  },
  {
   "cell_type": "code",
   "execution_count": 5,
   "metadata": {},
   "outputs": [
    {
     "data": {
      "text/plain": [
       "5572"
      ]
     },
     "execution_count": 5,
     "metadata": {},
     "output_type": "execute_result"
    }
   ],
   "source": [
    "len(df_area_clean)"
   ]
  },
  {
   "cell_type": "markdown",
   "metadata": {},
   "source": [
    "Here we see a problem. The number of cities is different in our data sets. It seems there are new cities since 2010."
   ]
  },
  {
   "cell_type": "markdown",
   "metadata": {},
   "source": [
    "### 2.3. Tabnet - DataSUS"
   ]
  },
  {
   "cell_type": "markdown",
   "metadata": {},
   "source": [
    "There is a national database with information from the Ministry of Health, at <a href=\"http://tabnet.datasus.gov.br/cgi/deftohtm.exe?cnes/cnv/leiintbr.def\">Tabnet</a>. From there, we will get the number of hospital beds available for each city, another indicator that will be taken into account for our medical needs."
   ]
  },
  {
   "cell_type": "code",
   "execution_count": 6,
   "metadata": {},
   "outputs": [
    {
     "data": {
      "text/html": [
       "<div>\n",
       "<style scoped>\n",
       "    .dataframe tbody tr th:only-of-type {\n",
       "        vertical-align: middle;\n",
       "    }\n",
       "\n",
       "    .dataframe tbody tr th {\n",
       "        vertical-align: top;\n",
       "    }\n",
       "\n",
       "    .dataframe thead th {\n",
       "        text-align: right;\n",
       "    }\n",
       "</style>\n",
       "<table border=\"1\" class=\"dataframe\">\n",
       "  <thead>\n",
       "    <tr style=\"text-align: right;\">\n",
       "      <th></th>\n",
       "      <th>CityID</th>\n",
       "      <th>Hospital_beds</th>\n",
       "    </tr>\n",
       "  </thead>\n",
       "  <tbody>\n",
       "    <tr>\n",
       "      <th>0</th>\n",
       "      <td>110001</td>\n",
       "      <td>49</td>\n",
       "    </tr>\n",
       "    <tr>\n",
       "      <th>1</th>\n",
       "      <td>110037</td>\n",
       "      <td>24</td>\n",
       "    </tr>\n",
       "    <tr>\n",
       "      <th>2</th>\n",
       "      <td>110040</td>\n",
       "      <td>16</td>\n",
       "    </tr>\n",
       "    <tr>\n",
       "      <th>3</th>\n",
       "      <td>110034</td>\n",
       "      <td>35</td>\n",
       "    </tr>\n",
       "    <tr>\n",
       "      <th>4</th>\n",
       "      <td>110002</td>\n",
       "      <td>240</td>\n",
       "    </tr>\n",
       "  </tbody>\n",
       "</table>\n",
       "</div>"
      ],
      "text/plain": [
       "   CityID  Hospital_beds\n",
       "0  110001             49\n",
       "1  110037             24\n",
       "2  110040             16\n",
       "3  110034             35\n",
       "4  110002            240"
      ]
     },
     "execution_count": 6,
     "metadata": {},
     "output_type": "execute_result"
    }
   ],
   "source": [
    "#loading the file\n",
    "df_hospital = pd.read_csv('leitoshospitalares.csv',sep=';')\n",
    "#getting the city ID from ID+Name\n",
    "df_hospital['Município'] = df_hospital['Município'].str[:6]\n",
    "#renaming columns\n",
    "df_hospital.rename(columns = {'Município':'CityID', 'Quantidade existente':'Hospital_beds'},\n",
    "                              inplace = True)\n",
    "df_hospital = df_hospital.reset_index(drop=True)\n",
    "df_hospital.head()"
   ]
  },
  {
   "cell_type": "code",
   "execution_count": 7,
   "metadata": {},
   "outputs": [
    {
     "data": {
      "text/plain": [
       "3549"
      ]
     },
     "execution_count": 7,
     "metadata": {},
     "output_type": "execute_result"
    }
   ],
   "source": [
    "len(df_hospital)"
   ]
  },
  {
   "cell_type": "markdown",
   "metadata": {},
   "source": [
    "Here we have another thing to be aware of. Not all cities have hospitals. We will have other features like this, and we will tackle this problem after loading all of them"
   ]
  },
  {
   "cell_type": "markdown",
   "metadata": {},
   "source": [
    "### 2.4. National Energy Agency"
   ]
  },
  {
   "cell_type": "markdown",
   "metadata": {},
   "source": [
    "From the National Energy Agency, ANEEL, we can get the data with the location and energy production of all the power plants <a href=\"https://www.aneel.gov.br/dados/geracao\">here</a>. We will pivot this data to get the cities as rows and the kind of power plant as columns, with how much is produced as our values."
   ]
  },
  {
   "cell_type": "markdown",
   "metadata": {},
   "source": [
    "Here we will keep only four types of energy production: solar, wind, biomass and nuclear power. Solar power is easy to mantain, Biomass is a nice alternative, Wind turbines should work for a long time without maintenance, and Nuclear power should be as far away as possible, because it fill fail without the proper care. Hydreletric power plants are too complex to mantain, and thermoeletric are dependent of fuel."
   ]
  },
  {
   "cell_type": "code",
   "execution_count": 12,
   "metadata": {},
   "outputs": [
    {
     "name": "stderr",
     "output_type": "stream",
     "text": [
      "<ipython-input-12-f956d67404ac>:14: SettingWithCopyWarning: \n",
      "A value is trying to be set on a copy of a slice from a DataFrame.\n",
      "Try using .loc[row_indexer,col_indexer] = value instead\n",
      "\n",
      "See the caveats in the documentation: https://pandas.pydata.org/pandas-docs/stable/user_guide/indexing.html#returning-a-view-versus-a-copy\n",
      "  df_energy_clean['mdaPotenciaOutorgadakW'] = df_energy_clean['mdaPotenciaOutorgadakW'].astype(int)\n"
     ]
    },
    {
     "data": {
      "text/html": [
       "<div>\n",
       "<style scoped>\n",
       "    .dataframe tbody tr th:only-of-type {\n",
       "        vertical-align: middle;\n",
       "    }\n",
       "\n",
       "    .dataframe tbody tr th {\n",
       "        vertical-align: top;\n",
       "    }\n",
       "\n",
       "    .dataframe thead th {\n",
       "        text-align: right;\n",
       "    }\n",
       "</style>\n",
       "<table border=\"1\" class=\"dataframe\">\n",
       "  <thead>\n",
       "    <tr style=\"text-align: right;\">\n",
       "      <th>dscOrigemCombustivel</th>\n",
       "      <th>CityID</th>\n",
       "      <th>BiomassPower</th>\n",
       "      <th>WindPower</th>\n",
       "      <th>NuclearPower</th>\n",
       "      <th>SolarPower</th>\n",
       "    </tr>\n",
       "  </thead>\n",
       "  <tbody>\n",
       "    <tr>\n",
       "      <th>0</th>\n",
       "      <td>110002</td>\n",
       "      <td>0.0</td>\n",
       "      <td>0.0</td>\n",
       "      <td>0.0</td>\n",
       "      <td>0.0</td>\n",
       "    </tr>\n",
       "    <tr>\n",
       "      <th>1</th>\n",
       "      <td>110006</td>\n",
       "      <td>0.0</td>\n",
       "      <td>0.0</td>\n",
       "      <td>0.0</td>\n",
       "      <td>0.0</td>\n",
       "    </tr>\n",
       "    <tr>\n",
       "      <th>2</th>\n",
       "      <td>110007</td>\n",
       "      <td>0.0</td>\n",
       "      <td>0.0</td>\n",
       "      <td>0.0</td>\n",
       "      <td>0.0</td>\n",
       "    </tr>\n",
       "    <tr>\n",
       "      <th>3</th>\n",
       "      <td>110008</td>\n",
       "      <td>0.0</td>\n",
       "      <td>0.0</td>\n",
       "      <td>0.0</td>\n",
       "      <td>0.0</td>\n",
       "    </tr>\n",
       "    <tr>\n",
       "      <th>4</th>\n",
       "      <td>110010</td>\n",
       "      <td>0.0</td>\n",
       "      <td>0.0</td>\n",
       "      <td>0.0</td>\n",
       "      <td>0.0</td>\n",
       "    </tr>\n",
       "  </tbody>\n",
       "</table>\n",
       "</div>"
      ],
      "text/plain": [
       "dscOrigemCombustivel  CityID  BiomassPower  WindPower  NuclearPower  \\\n",
       "0                     110002           0.0        0.0           0.0   \n",
       "1                     110006           0.0        0.0           0.0   \n",
       "2                     110007           0.0        0.0           0.0   \n",
       "3                     110008           0.0        0.0           0.0   \n",
       "4                     110010           0.0        0.0           0.0   \n",
       "\n",
       "dscOrigemCombustivel  SolarPower  \n",
       "0                            0.0  \n",
       "1                            0.0  \n",
       "2                            0.0  \n",
       "3                            0.0  \n",
       "4                            0.0  "
      ]
     },
     "execution_count": 12,
     "metadata": {},
     "output_type": "execute_result"
    }
   ],
   "source": [
    "#loading file\n",
    "df_energy = pd.read_csv('EmpreendimentoOperacao.csv')\n",
    "#keeping only the needed columns\n",
    "df_energy = df_energy[['dscMunicipio','dscOrigemCombustivel','mdaPotenciaOutorgadakW']]\n",
    "#removing power plants that don't have a location\n",
    "df_energy = df_energy.dropna(axis = 0, how ='any')\n",
    "#finding cityID in the name+ID\n",
    "df_energy['pos'] = df_energy['dscMunicipio'].str.find('CodIbge:').astype(int)\n",
    "#getting cityID\n",
    "df_energy['CodMunic'] = df_energy.apply(lambda x: x['dscMunicipio'][x['pos']+9:x['pos']+16],axis=1)\n",
    "#keeping only the needed columns\n",
    "df_energy_clean = df_energy[['CodMunic','dscOrigemCombustivel','mdaPotenciaOutorgadakW']]\n",
    "#making sure the power production is integer\n",
    "df_energy_clean['mdaPotenciaOutorgadakW'] = df_energy_clean['mdaPotenciaOutorgadakW'].astype(int)\n",
    "#grouping production by city and type\n",
    "df_energy_final =df_energy_clean.groupby(['CodMunic','dscOrigemCombustivel'], as_index=False).agg({'mdaPotenciaOutorgadakW':sum})\n",
    "#pivoting to get types as columns\n",
    "df_energy_pivot = df_energy_final.pivot(index='CodMunic', columns='dscOrigemCombustivel', values='mdaPotenciaOutorgadakW')\n",
    "#keeping only the needed columns\n",
    "df_energy_pivot = df_energy_pivot.drop(columns=['Fóssil','Hídrica','Undi-Elétrica'])\n",
    "#resetting index\n",
    "df_energy_pivot.reset_index(inplace=True)\n",
    "\n",
    "#renaming columns\n",
    "df_energy_pivot.rename(columns = {'CodMunic':'CityID','Biomassa':'BiomassPower','Eólica': 'WindPower',\n",
    "                                  'Solar':'SolarPower','Nuclear':'NuclearPower'},\n",
    "                              inplace = True)\n",
    "\n",
    "#filling empty values with zero\n",
    "df_energy_pivot = df_energy_pivot.fillna(0)\n",
    "df_energy_pivot['CityID'] = df_energy_pivot['CityID'].str[:6]\n",
    "df_energy_pivot.head()"
   ]
  },
  {
   "cell_type": "code",
   "execution_count": 9,
   "metadata": {},
   "outputs": [
    {
     "data": {
      "text/plain": [
       "1625"
      ]
     },
     "execution_count": 9,
     "metadata": {},
     "output_type": "execute_result"
    }
   ],
   "source": [
    "len(df_energy_pivot)"
   ]
  },
  {
   "cell_type": "markdown",
   "metadata": {},
   "source": [
    "Again, not all cities are present in this data set."
   ]
  },
  {
   "cell_type": "markdown",
   "metadata": {},
   "source": [
    "### 2.5. INPE - National Institute for Space Research"
   ]
  },
  {
   "cell_type": "markdown",
   "metadata": {},
   "source": [
    "One of the labs that are a part of INPE is LABREN - Modeling and Study of Renewable Energy Resources Lab, that released the <a href=\"http://labren.ccst.inpe.br/atlas_2017.html\">2017 Brazilian Solar Power Atlas</a>. As we said before, Solar Power is one of the best alternatives for our post-apocalyptic new life."
   ]
  },
  {
   "cell_type": "markdown",
   "metadata": {},
   "source": [
    "From this data set, we will get the average solar incidence for each city. One thing that will come in handy are the coordinates for the center of each city. This will be useful when we'll need the distance between the cities."
   ]
  },
  {
   "cell_type": "code",
   "execution_count": 10,
   "metadata": {},
   "outputs": [
    {
     "name": "stderr",
     "output_type": "stream",
     "text": [
      "/home/rodrigolink/anaconda3/lib/python3.8/site-packages/pandas/core/frame.py:4296: SettingWithCopyWarning: \n",
      "A value is trying to be set on a copy of a slice from a DataFrame\n",
      "\n",
      "See the caveats in the documentation: https://pandas.pydata.org/pandas-docs/stable/user_guide/indexing.html#returning-a-view-versus-a-copy\n",
      "  return super().rename(\n"
     ]
    },
    {
     "data": {
      "text/html": [
       "<div>\n",
       "<style scoped>\n",
       "    .dataframe tbody tr th:only-of-type {\n",
       "        vertical-align: middle;\n",
       "    }\n",
       "\n",
       "    .dataframe tbody tr th {\n",
       "        vertical-align: top;\n",
       "    }\n",
       "\n",
       "    .dataframe thead th {\n",
       "        text-align: right;\n",
       "    }\n",
       "</style>\n",
       "<table border=\"1\" class=\"dataframe\">\n",
       "  <thead>\n",
       "    <tr style=\"text-align: right;\">\n",
       "      <th></th>\n",
       "      <th>CityID</th>\n",
       "      <th>Longitude</th>\n",
       "      <th>Latitude</th>\n",
       "      <th>SolarIncidence</th>\n",
       "    </tr>\n",
       "  </thead>\n",
       "  <tbody>\n",
       "    <tr>\n",
       "      <th>0</th>\n",
       "      <td>120010</td>\n",
       "      <td>-68.7463</td>\n",
       "      <td>-11.0109</td>\n",
       "      <td>3438</td>\n",
       "    </tr>\n",
       "    <tr>\n",
       "      <th>1</th>\n",
       "      <td>120025</td>\n",
       "      <td>-68.7442</td>\n",
       "      <td>-11.0293</td>\n",
       "      <td>3438</td>\n",
       "    </tr>\n",
       "    <tr>\n",
       "      <th>2</th>\n",
       "      <td>120005</td>\n",
       "      <td>-69.5658</td>\n",
       "      <td>-10.9394</td>\n",
       "      <td>3453</td>\n",
       "    </tr>\n",
       "    <tr>\n",
       "      <th>3</th>\n",
       "      <td>120070</td>\n",
       "      <td>-68.4973</td>\n",
       "      <td>-10.6520</td>\n",
       "      <td>3413</td>\n",
       "    </tr>\n",
       "    <tr>\n",
       "      <th>4</th>\n",
       "      <td>120017</td>\n",
       "      <td>-67.6768</td>\n",
       "      <td>-10.5749</td>\n",
       "      <td>3269</td>\n",
       "    </tr>\n",
       "  </tbody>\n",
       "</table>\n",
       "</div>"
      ],
      "text/plain": [
       "   CityID  Longitude  Latitude  SolarIncidence\n",
       "0  120010   -68.7463  -11.0109            3438\n",
       "1  120025   -68.7442  -11.0293            3438\n",
       "2  120005   -69.5658  -10.9394            3453\n",
       "3  120070   -68.4973  -10.6520            3413\n",
       "4  120017   -67.6768  -10.5749            3269"
      ]
     },
     "execution_count": 10,
     "metadata": {},
     "output_type": "execute_result"
    }
   ],
   "source": [
    "#loading the file\n",
    "df_solar = pd.read_csv('direct_normal_means_sedes-munic.csv',sep=';')\n",
    "#keeping only the needed features\n",
    "df_solar_clean = df_solar[['LON','LAT','NAME','STATE','ANNUAL']]\n",
    "#replacing the state name by the stateID\n",
    "df_solar_clean = df_solar_clean.replace(['ACRE', 'ALAGOAS', 'AMAPÁ', 'AMAZONAS', 'BAHIA', 'CEARÁ',\n",
    "       'DISTRITO FEDERAL', 'ESPÍRITO SANTO', 'GOIÁS', 'MARANHÃO',\n",
    "       'MATO GROSSO', 'MATO GROSSO DO SUL', 'MINAS GERAIS', 'PARÁ',\n",
    "       'PARAÍBA', 'PARANÁ', 'PERNAMBUCO', 'PIAUÍ', 'RIO DE JANEIRO',\n",
    "       'RIO GRANDE DO NORTE', 'RIO GRANDE DO SUL', 'RONDÔNIA', 'RORAIMA',\n",
    "       'SANTA CATARINA', 'SÃO PAULO', 'SERGIPE', 'TOCANTINS'],['AC', 'AL', 'AP', 'AM', 'BA', 'CE',\n",
    "       'DF', 'ES', 'GO', 'MA', 'MT', 'MS', 'MG', 'PA', 'PB', 'PR', 'PE', 'PI', 'RJ', 'RN', 'RS', \n",
    "        'RO', 'RR', 'SC', 'SP', 'SE', 'TO'])\n",
    "\n",
    "#turning the name and state into a single column, in lowercase\n",
    "df_solar_clean['citystate'] = (df_solar_clean['NAME']+'-'+df_solar_clean['STATE']).str.lower()\n",
    "#getting the cityID from the area dataset\n",
    "df_areasolar = pd.merge(df_solar_clean, df_area_clean, on='citystate', how='inner')\n",
    "#keeping only the needed features\n",
    "df_solar_final = df_areasolar[['CityID','LON','LAT','ANNUAL']]\n",
    "\n",
    "\n",
    "\n",
    "#renaming columns\n",
    "df_solar_final.rename(columns = {'LON':'Longitude','LAT':'Latitude','ANNUAL': 'SolarIncidence'},\n",
    "                              inplace = True)\n",
    "\n",
    "df_solar_final.head()"
   ]
  },
  {
   "cell_type": "markdown",
   "metadata": {},
   "source": [
    "### 2.6. Forest-GIS"
   ]
  },
  {
   "cell_type": "markdown",
   "metadata": {},
   "source": [
    "This website is a portal for geotechnical data, and it has a collection of links to interesting data sets. From <a href=\"https://forest-gis.com/download-gis-base-de-dados/\">here</a>, we will get the climate information for each city:  the average temperature and the standard deviation during the year, the rainfall and the altitude."
   ]
  },
  {
   "cell_type": "code",
   "execution_count": 16,
   "metadata": {},
   "outputs": [
    {
     "name": "stderr",
     "output_type": "stream",
     "text": [
      "<ipython-input-16-8d5fa24ef143>:14: SettingWithCopyWarning: \n",
      "A value is trying to be set on a copy of a slice from a DataFrame.\n",
      "Try using .loc[row_indexer,col_indexer] = value instead\n",
      "\n",
      "See the caveats in the documentation: https://pandas.pydata.org/pandas-docs/stable/user_guide/indexing.html#returning-a-view-versus-a-copy\n",
      "  df_climate_clean['CityID'] = df_climate_clean['CityID'].astype(str).str[:6]\n"
     ]
    },
    {
     "data": {
      "text/html": [
       "<div>\n",
       "<style scoped>\n",
       "    .dataframe tbody tr th:only-of-type {\n",
       "        vertical-align: middle;\n",
       "    }\n",
       "\n",
       "    .dataframe tbody tr th {\n",
       "        vertical-align: top;\n",
       "    }\n",
       "\n",
       "    .dataframe thead th {\n",
       "        text-align: right;\n",
       "    }\n",
       "</style>\n",
       "<table border=\"1\" class=\"dataframe\">\n",
       "  <thead>\n",
       "    <tr style=\"text-align: right;\">\n",
       "      <th></th>\n",
       "      <th>CityID</th>\n",
       "      <th>Altitude</th>\n",
       "      <th>MeanTemperature</th>\n",
       "      <th>StdDevTemperature</th>\n",
       "      <th>MeanRainfall</th>\n",
       "    </tr>\n",
       "  </thead>\n",
       "  <tbody>\n",
       "    <tr>\n",
       "      <th>0</th>\n",
       "      <td>110001</td>\n",
       "      <td>246.084366</td>\n",
       "      <td>25.416845</td>\n",
       "      <td>1.537877</td>\n",
       "      <td>167.144504</td>\n",
       "    </tr>\n",
       "    <tr>\n",
       "      <th>1</th>\n",
       "      <td>110002</td>\n",
       "      <td>165.899734</td>\n",
       "      <td>25.934812</td>\n",
       "      <td>1.225573</td>\n",
       "      <td>177.045622</td>\n",
       "    </tr>\n",
       "    <tr>\n",
       "      <th>2</th>\n",
       "      <td>110003</td>\n",
       "      <td>224.183029</td>\n",
       "      <td>25.554969</td>\n",
       "      <td>1.655509</td>\n",
       "      <td>162.875902</td>\n",
       "    </tr>\n",
       "    <tr>\n",
       "      <th>3</th>\n",
       "      <td>110004</td>\n",
       "      <td>229.949814</td>\n",
       "      <td>25.830520</td>\n",
       "      <td>1.342803</td>\n",
       "      <td>171.251407</td>\n",
       "    </tr>\n",
       "    <tr>\n",
       "      <th>4</th>\n",
       "      <td>110005</td>\n",
       "      <td>192.215805</td>\n",
       "      <td>25.640308</td>\n",
       "      <td>1.666064</td>\n",
       "      <td>165.300759</td>\n",
       "    </tr>\n",
       "  </tbody>\n",
       "</table>\n",
       "</div>"
      ],
      "text/plain": [
       "   CityID    Altitude  MeanTemperature  StdDevTemperature  MeanRainfall\n",
       "0  110001  246.084366        25.416845           1.537877    167.144504\n",
       "1  110002  165.899734        25.934812           1.225573    177.045622\n",
       "2  110003  224.183029        25.554969           1.655509    162.875902\n",
       "3  110004  229.949814        25.830520           1.342803    171.251407\n",
       "4  110005  192.215805        25.640308           1.666064    165.300759"
      ]
     },
     "execution_count": 16,
     "metadata": {},
     "output_type": "execute_result"
    }
   ],
   "source": [
    "#loading the file, bringing the sheet with the information for the cities\n",
    "df_climate = pd.read_excel('KoppenBrazilianmunicipalities.xls', sheet_name='Data')\n",
    "#computing necessary data\n",
    "df_climate['MeanTemperature'] = df_climate[df_climate.columns[6:18]].mean(axis=1)\n",
    "df_climate['StdDevTemperature'] = df_climate[df_climate.columns[6:18]].std(axis=1)\n",
    "df_climate['MeanRainfall'] = df_climate[df_climate.columns[18:]].mean(axis=1)\n",
    "#keeping only the needed features\n",
    "df_climate_clean = df_climate[['IBGE-Code','Altitude', \"MeanTemperature\", \"StdDevTemperature\", 'MeanRainfall']]\n",
    "#renaming columns\n",
    "df_climate_clean.rename(columns = {'IBGE-Code':'CityID'},\n",
    "                              inplace = True)\n",
    "\n",
    "\n",
    "df_climate_clean['CityID'] = df_climate_clean['CityID'].astype(str).str[:6]\n",
    "df_climate_clean.head()"
   ]
  },
  {
   "cell_type": "code",
   "execution_count": 17,
   "metadata": {},
   "outputs": [
    {
     "data": {
      "text/plain": [
       "5567"
      ]
     },
     "execution_count": 17,
     "metadata": {},
     "output_type": "execute_result"
    }
   ],
   "source": [
    "len(df_climate_clean)"
   ]
  },
  {
   "cell_type": "markdown",
   "metadata": {},
   "source": [
    "### 2.7. SIDRA, IBGE's Automatic Retrieval System"
   ]
  },
  {
   "cell_type": "markdown",
   "metadata": {},
   "source": [
    "From this platform we will get the tables with the agriculture production for each city. We have two inputs, <a href=\"https://sidra.ibge.gov.br/Tabela/1613\">one</a> for the permanent farms and <a href=\"https://sidra.ibge.gov.br/Tabela/1612\">another</a> for the temporary productions. The information we are seeking here is the area being used for plantations, and we will use that as a proxy to determine how fertile the region around the city is."
   ]
  },
  {
   "cell_type": "code",
   "execution_count": 19,
   "metadata": {},
   "outputs": [
    {
     "name": "stderr",
     "output_type": "stream",
     "text": [
      "/home/rodrigolink/anaconda3/lib/python3.8/site-packages/pandas/core/frame.py:4296: SettingWithCopyWarning: \n",
      "A value is trying to be set on a copy of a slice from a DataFrame\n",
      "\n",
      "See the caveats in the documentation: https://pandas.pydata.org/pandas-docs/stable/user_guide/indexing.html#returning-a-view-versus-a-copy\n",
      "  return super().rename(\n",
      "<ipython-input-19-5812173770bb>:16: SettingWithCopyWarning: \n",
      "A value is trying to be set on a copy of a slice from a DataFrame.\n",
      "Try using .loc[row_indexer,col_indexer] = value instead\n",
      "\n",
      "See the caveats in the documentation: https://pandas.pydata.org/pandas-docs/stable/user_guide/indexing.html#returning-a-view-versus-a-copy\n",
      "  df_agro_clean['CityID'] = df_agro_clean['CityID'].astype(str).str[:6]\n"
     ]
    },
    {
     "data": {
      "text/html": [
       "<div>\n",
       "<style scoped>\n",
       "    .dataframe tbody tr th:only-of-type {\n",
       "        vertical-align: middle;\n",
       "    }\n",
       "\n",
       "    .dataframe tbody tr th {\n",
       "        vertical-align: top;\n",
       "    }\n",
       "\n",
       "    .dataframe thead th {\n",
       "        text-align: right;\n",
       "    }\n",
       "</style>\n",
       "<table border=\"1\" class=\"dataframe\">\n",
       "  <thead>\n",
       "    <tr style=\"text-align: right;\">\n",
       "      <th></th>\n",
       "      <th>CityID</th>\n",
       "      <th>FertileArea</th>\n",
       "    </tr>\n",
       "  </thead>\n",
       "  <tbody>\n",
       "    <tr>\n",
       "      <th>0</th>\n",
       "      <td>110001</td>\n",
       "      <td>177.87</td>\n",
       "    </tr>\n",
       "    <tr>\n",
       "      <th>1</th>\n",
       "      <td>110002</td>\n",
       "      <td>118.01</td>\n",
       "    </tr>\n",
       "    <tr>\n",
       "      <th>2</th>\n",
       "      <td>110003</td>\n",
       "      <td>469.47</td>\n",
       "    </tr>\n",
       "    <tr>\n",
       "      <th>3</th>\n",
       "      <td>110004</td>\n",
       "      <td>153.95</td>\n",
       "    </tr>\n",
       "    <tr>\n",
       "      <th>4</th>\n",
       "      <td>110005</td>\n",
       "      <td>674.26</td>\n",
       "    </tr>\n",
       "  </tbody>\n",
       "</table>\n",
       "</div>"
      ],
      "text/plain": [
       "   CityID  FertileArea\n",
       "0  110001       177.87\n",
       "1  110002       118.01\n",
       "2  110003       469.47\n",
       "3  110004       153.95\n",
       "4  110005       674.26"
      ]
     },
     "execution_count": 19,
     "metadata": {},
     "output_type": "execute_result"
    }
   ],
   "source": [
    "#loading files\n",
    "df_agro1 = pd.read_excel('tabela1612.xlsx')\n",
    "df_agro2 = pd.read_excel('tabela1613.xlsx')\n",
    "#merging inputs into a single table\n",
    "df_agro = pd.merge(df_agro1, df_agro2, on=['Cód.','Município'], how='inner')\n",
    "#fill empty cells, some cities are present only in one of the tables\n",
    "df_agro = df_agro.fillna(0)\n",
    "#compute total production area\n",
    "df_agro['Total prod'] = (df_agro['Produto das lavouras temporárias'].astype(int) + df_agro['Produto das lavouras permanentes'].astype(int))/100.\n",
    "#keeping only the needed columns\n",
    "df_agro_clean = df_agro[['Cód.','Total prod']]\n",
    "#renaming columns\n",
    "df_agro_clean.rename(columns = {'Cód.':'CityID', 'Total prod':'FertileArea'},\n",
    "                              inplace = True)\n",
    "\n",
    "df_agro_clean['CityID'] = df_agro_clean['CityID'].astype(str).str[:6]\n",
    "\n",
    "df_agro_clean.head()"
   ]
  },
  {
   "cell_type": "code",
   "execution_count": 20,
   "metadata": {},
   "outputs": [
    {
     "data": {
      "text/plain": [
       "5534"
      ]
     },
     "execution_count": 20,
     "metadata": {},
     "output_type": "execute_result"
    }
   ],
   "source": [
    "len(df_agro_clean)"
   ]
  },
  {
   "cell_type": "markdown",
   "metadata": {},
   "source": [
    "Again, we have almost all cities in our data."
   ]
  },
  {
   "cell_type": "markdown",
   "metadata": {},
   "source": [
    "### 2.8. Wikipedia"
   ]
  },
  {
   "cell_type": "markdown",
   "metadata": {},
   "source": [
    "Wikipedia is home to a ton of different information, but we have to dig a little to find something that will be useful. We will process two lists to help populate our data set."
   ]
  },
  {
   "cell_type": "markdown",
   "metadata": {},
   "source": [
    "In any apocalyptic scenario, the best way to guarantee our safety is to have a good collection of firearms and ammunition. We couldn't find the information about possesion of guns by city, so we will use the location and quantity of military bases as interesting places to get guns. There aren't that many around the country, so we will need to process this data afterwards."
   ]
  },
  {
   "cell_type": "code",
   "execution_count": 24,
   "metadata": {},
   "outputs": [
    {
     "name": "stderr",
     "output_type": "stream",
     "text": [
      "<ipython-input-24-e34692b56812>:23: SettingWithCopyWarning: \n",
      "A value is trying to be set on a copy of a slice from a DataFrame.\n",
      "Try using .loc[row_indexer,col_indexer] = value instead\n",
      "\n",
      "See the caveats in the documentation: https://pandas.pydata.org/pandas-docs/stable/user_guide/indexing.html#returning-a-view-versus-a-copy\n",
      "  df_military_clean['State'] = df_military_clean['State'].replace(['Acre', 'Alagoas', 'Amapá', 'Amazonas', 'Bahia', 'Ceará',\n",
      "<ipython-input-24-e34692b56812>:31: SettingWithCopyWarning: \n",
      "A value is trying to be set on a copy of a slice from a DataFrame.\n",
      "Try using .loc[row_indexer,col_indexer] = value instead\n",
      "\n",
      "See the caveats in the documentation: https://pandas.pydata.org/pandas-docs/stable/user_guide/indexing.html#returning-a-view-versus-a-copy\n",
      "  df_military_clean['citystate'] = (df_military_clean['Location']+'-'+df_military_clean['State']).str.lower()\n"
     ]
    },
    {
     "data": {
      "text/html": [
       "<div>\n",
       "<style scoped>\n",
       "    .dataframe tbody tr th:only-of-type {\n",
       "        vertical-align: middle;\n",
       "    }\n",
       "\n",
       "    .dataframe tbody tr th {\n",
       "        vertical-align: top;\n",
       "    }\n",
       "\n",
       "    .dataframe thead th {\n",
       "        text-align: right;\n",
       "    }\n",
       "</style>\n",
       "<table border=\"1\" class=\"dataframe\">\n",
       "  <thead>\n",
       "    <tr style=\"text-align: right;\">\n",
       "      <th></th>\n",
       "      <th>CityID</th>\n",
       "      <th>MilitaryBases</th>\n",
       "    </tr>\n",
       "  </thead>\n",
       "  <tbody>\n",
       "    <tr>\n",
       "      <th>0</th>\n",
       "      <td>330455</td>\n",
       "      <td>12</td>\n",
       "    </tr>\n",
       "    <tr>\n",
       "      <th>1</th>\n",
       "      <td>130260</td>\n",
       "      <td>3</td>\n",
       "    </tr>\n",
       "    <tr>\n",
       "      <th>2</th>\n",
       "      <td>240810</td>\n",
       "      <td>3</td>\n",
       "    </tr>\n",
       "    <tr>\n",
       "      <th>3</th>\n",
       "      <td>150140</td>\n",
       "      <td>2</td>\n",
       "    </tr>\n",
       "    <tr>\n",
       "      <th>4</th>\n",
       "      <td>530010</td>\n",
       "      <td>1</td>\n",
       "    </tr>\n",
       "  </tbody>\n",
       "</table>\n",
       "</div>"
      ],
      "text/plain": [
       "   CityID  MilitaryBases\n",
       "0  330455             12\n",
       "1  130260              3\n",
       "2  240810              3\n",
       "3  150140              2\n",
       "4  530010              1"
      ]
     },
     "execution_count": 24,
     "metadata": {},
     "output_type": "execute_result"
    }
   ],
   "source": [
    "#setting up the website \n",
    "url = 'https://en.wikipedia.org/wiki/List_of_Brazilian_military_bases'\n",
    "#getting the data\n",
    "html_data = requests.get(url).text\n",
    "#processing the html data\n",
    "soup = BeautifulSoup(html_data,\"html5lib\") \n",
    "#extracting the table from the html data\n",
    "table_contents = []\n",
    "tables = soup.findAll('table')\n",
    "for table in tables:\n",
    "    for row in table.findAll('tr'):\n",
    "        temp=[]\n",
    "        for cell in row.findAll('td'):\n",
    "            temp.append(cell.text)\n",
    "        table_contents.append(temp)\n",
    "#creating dataframe and naming columns\n",
    "df_military = pd.DataFrame(table_contents,columns=['Location', 'State', 'ICAO', 'Code', 'Basename','outro1','outro2'])\n",
    "#droping first empty row\n",
    "df_military = df_military.drop([0]).reset_index(inplace=False)\n",
    "#keeping only the needed columns\n",
    "df_military_clean = df_military[['Location','State']]\n",
    "#replacing State with stateID\n",
    "df_military_clean['State'] = df_military_clean['State'].replace(['Acre', 'Alagoas', 'Amapá', 'Amazonas', 'Bahia', 'Ceará',\n",
    "       'Federal District', 'Espírito Santo', 'Goiás', 'Maranhão', 'Mato Grosso', 'Mato Grosso do Sul', \n",
    "        'Minas Gerais', 'Pará', 'Paraíba', 'Paraná', 'Pernambuco', 'Piauí', 'Rio de Janeiro',\n",
    "       'Rio Grande do Norte', 'Rio Grande do Sul', 'Rondônia', 'Roraima', 'Santa Catarina', 'São Paulo', \n",
    "        'Sergipe', 'Tocantins'],['AC', 'AL', 'AP', 'AM', 'BA', 'CE',\n",
    "       'DF', 'ES', 'GO', 'MA', 'MT', 'MS', 'MG', 'PA', 'PB', 'PR', 'PE', 'PI', 'RJ', 'RN', 'RS', \n",
    "        'RO', 'RR', 'SC', 'SP', 'SE', 'TO'])\n",
    "#turning the name and state into a single column, in lowercase\n",
    "df_military_clean['citystate'] = (df_military_clean['Location']+'-'+df_military_clean['State']).str.lower()\n",
    "#getting the cityID from the area dataset\n",
    "df_areamilitary = pd.merge(df_military_clean, df_area_clean, on='citystate', how='inner')\n",
    "#counting the number of military bases by city\n",
    "df_military_final = pd.DataFrame(df_areamilitary[['CityID']].value_counts(),columns=['MilitaryBases'])\n",
    "\n",
    "df_military_final.reset_index(inplace=True)\n",
    "df_military_final.head()"
   ]
  },
  {
   "cell_type": "code",
   "execution_count": 25,
   "metadata": {},
   "outputs": [
    {
     "data": {
      "text/plain": [
       "20"
      ]
     },
     "execution_count": 25,
     "metadata": {},
     "output_type": "execute_result"
    }
   ],
   "source": [
    "len(df_military_final)"
   ]
  },
  {
   "cell_type": "markdown",
   "metadata": {},
   "source": [
    "The second list we will process is the number of airports available around the country, even the smaller local ones. It might not be easy to fly a light aircraft, but it is certainly a nice way out if you are in a hurry. There aren't that many around the country, so we will need to process this data afterwards."
   ]
  },
  {
   "cell_type": "code",
   "execution_count": 26,
   "metadata": {},
   "outputs": [
    {
     "name": "stderr",
     "output_type": "stream",
     "text": [
      "<ipython-input-26-02cb9c38a2c5>:23: SettingWithCopyWarning: \n",
      "A value is trying to be set on a copy of a slice from a DataFrame.\n",
      "Try using .loc[row_indexer,col_indexer] = value instead\n",
      "\n",
      "See the caveats in the documentation: https://pandas.pydata.org/pandas-docs/stable/user_guide/indexing.html#returning-a-view-versus-a-copy\n",
      "  df_airports_clean['State'] = df_airports_clean['State'].replace(['Acre', 'Alagoas', 'Amapá', 'Amazonas', 'Bahia', 'Ceará',\n",
      "<ipython-input-26-02cb9c38a2c5>:32: SettingWithCopyWarning: \n",
      "A value is trying to be set on a copy of a slice from a DataFrame.\n",
      "Try using .loc[row_indexer,col_indexer] = value instead\n",
      "\n",
      "See the caveats in the documentation: https://pandas.pydata.org/pandas-docs/stable/user_guide/indexing.html#returning-a-view-versus-a-copy\n",
      "  df_airports_clean['citystate'] = (df_airports_clean['City']+'-'+df_airports_clean['State']).str.lower()\n"
     ]
    },
    {
     "data": {
      "text/html": [
       "<div>\n",
       "<style scoped>\n",
       "    .dataframe tbody tr th:only-of-type {\n",
       "        vertical-align: middle;\n",
       "    }\n",
       "\n",
       "    .dataframe tbody tr th {\n",
       "        vertical-align: top;\n",
       "    }\n",
       "\n",
       "    .dataframe thead th {\n",
       "        text-align: right;\n",
       "    }\n",
       "</style>\n",
       "<table border=\"1\" class=\"dataframe\">\n",
       "  <thead>\n",
       "    <tr style=\"text-align: right;\">\n",
       "      <th></th>\n",
       "      <th>CityID</th>\n",
       "      <th>Airports</th>\n",
       "    </tr>\n",
       "  </thead>\n",
       "  <tbody>\n",
       "    <tr>\n",
       "      <th>0</th>\n",
       "      <td>330455</td>\n",
       "      <td>3</td>\n",
       "    </tr>\n",
       "    <tr>\n",
       "      <th>1</th>\n",
       "      <td>150140</td>\n",
       "      <td>2</td>\n",
       "    </tr>\n",
       "    <tr>\n",
       "      <th>2</th>\n",
       "      <td>355030</td>\n",
       "      <td>2</td>\n",
       "    </tr>\n",
       "    <tr>\n",
       "      <th>3</th>\n",
       "      <td>310620</td>\n",
       "      <td>2</td>\n",
       "    </tr>\n",
       "    <tr>\n",
       "      <th>4</th>\n",
       "      <td>520870</td>\n",
       "      <td>2</td>\n",
       "    </tr>\n",
       "  </tbody>\n",
       "</table>\n",
       "</div>"
      ],
      "text/plain": [
       "   CityID  Airports\n",
       "0  330455         3\n",
       "1  150140         2\n",
       "2  355030         2\n",
       "3  310620         2\n",
       "4  520870         2"
      ]
     },
     "execution_count": 26,
     "metadata": {},
     "output_type": "execute_result"
    }
   ],
   "source": [
    "#setting up the website \n",
    "url = 'https://en.wikipedia.org/wiki/List_of_airports_in_Brazil'\n",
    "#getting the data\n",
    "html_data = requests.get(url).text\n",
    "#processing the html data\n",
    "soup = BeautifulSoup(html_data,\"html5lib\") \n",
    "#extracting the table from the html data\n",
    "table_contents = []\n",
    "table = soup.findAll('table')\n",
    "for row in table[0].findAll('tr'):\n",
    "    temp=[]\n",
    "    for cell in row.findAll('td'):\n",
    "        temp.append(cell.text)\n",
    "    table_contents.append(temp)\n",
    "\n",
    "#creating dataframe and naming columns\n",
    "df_airports = pd.DataFrame(table_contents,columns=['City','State','Sigla','Sigla2','Nome','outro'])\n",
    "#droping first empty row\n",
    "df_airports = df_airports.drop([0]).reset_index(inplace=False)\n",
    "#keeping only the needed columns\n",
    "df_airports_clean = df_airports[['City','State']]\n",
    "#replacing State with stateID\n",
    "df_airports_clean['State'] = df_airports_clean['State'].replace(['Acre', 'Alagoas', 'Amapá', 'Amazonas', 'Bahia', 'Ceará',\n",
    "       'Federal District', 'Espírito Santo', 'Goiás', 'Maranhão', 'Mato Grosso', 'Mato Grosso do Sul', \n",
    "        'Minas Gerais', 'Pará', 'Paraíba', 'Paraná', 'Pernambuco', 'Piauí', 'Rio de Janeiro',\n",
    "       'Rio Grande do Norte', 'Rio Grande do Sul', 'Rondônia', 'Roraima', 'Santa Catarina', 'São Paulo', \n",
    "        'Sergipe', 'Tocantins'],['AC', 'AL', 'AP', 'AM', 'BA', 'CE',\n",
    "       'DF', 'ES', 'GO', 'MA', 'MT', 'MS', 'MG', 'PA', 'PB', 'PR', 'PE', 'PI', 'RJ', 'RN', 'RS', \n",
    "        'RO', 'RR', 'SC', 'SP', 'SE', 'TO'])\n",
    "\n",
    "#turning the name and state into a single column, in lowercase\n",
    "df_airports_clean['citystate'] = (df_airports_clean['City']+'-'+df_airports_clean['State']).str.lower()\n",
    "#getting the cityID from the area dataset\n",
    "df_areaairport = pd.merge(df_airports_clean, df_area_clean, on='citystate', how='inner')\n",
    "#counting the number of airports by city\n",
    "df_airport_final = pd.DataFrame(df_areaairport[['CityID']].value_counts(),columns=['Airports'])\n",
    "\n",
    "df_airport_final.reset_index(inplace=True)\n",
    "df_airport_final.head()"
   ]
  },
  {
   "cell_type": "code",
   "execution_count": 28,
   "metadata": {},
   "outputs": [
    {
     "data": {
      "text/plain": [
       "233"
      ]
     },
     "execution_count": 28,
     "metadata": {},
     "output_type": "execute_result"
    }
   ],
   "source": [
    "len(df_airport_final)"
   ]
  },
  {
   "cell_type": "markdown",
   "metadata": {},
   "source": [
    "### 2.9. Higher Education Census - IBGE"
   ]
  },
  {
   "cell_type": "markdown",
   "metadata": {},
   "source": [
    "Every year IBGE releases a <a href=\"https://www.gov.br/inep/pt-br/acesso-a-informacao/dados-abertos/microdados/censo-da-educacao-superior\">census</a> with the information from all entities registered as Higher Education at the Ministry of Education."
   ]
  },
  {
   "cell_type": "markdown",
   "metadata": {},
   "source": [
    "Unless we are fortunate enough to have one of those hero types in our surviving group, we will need to learn new trades to have any chance of survival. We are considering any University or College as a source of useful information, as well as good engineering equipment."
   ]
  },
  {
   "cell_type": "code",
   "execution_count": 35,
   "metadata": {},
   "outputs": [
    {
     "data": {
      "text/html": [
       "<div>\n",
       "<style scoped>\n",
       "    .dataframe tbody tr th:only-of-type {\n",
       "        vertical-align: middle;\n",
       "    }\n",
       "\n",
       "    .dataframe tbody tr th {\n",
       "        vertical-align: top;\n",
       "    }\n",
       "\n",
       "    .dataframe thead th {\n",
       "        text-align: right;\n",
       "    }\n",
       "</style>\n",
       "<table border=\"1\" class=\"dataframe\">\n",
       "  <thead>\n",
       "    <tr style=\"text-align: right;\">\n",
       "      <th></th>\n",
       "      <th>CityID</th>\n",
       "      <th>Universities</th>\n",
       "    </tr>\n",
       "  </thead>\n",
       "  <tbody>\n",
       "    <tr>\n",
       "      <th>0</th>\n",
       "      <td>355030</td>\n",
       "      <td>160</td>\n",
       "    </tr>\n",
       "    <tr>\n",
       "      <th>1</th>\n",
       "      <td>530010</td>\n",
       "      <td>72</td>\n",
       "    </tr>\n",
       "    <tr>\n",
       "      <th>2</th>\n",
       "      <td>330455</td>\n",
       "      <td>69</td>\n",
       "    </tr>\n",
       "    <tr>\n",
       "      <th>3</th>\n",
       "      <td>410690</td>\n",
       "      <td>58</td>\n",
       "    </tr>\n",
       "    <tr>\n",
       "      <th>4</th>\n",
       "      <td>310620</td>\n",
       "      <td>54</td>\n",
       "    </tr>\n",
       "  </tbody>\n",
       "</table>\n",
       "</div>"
      ],
      "text/plain": [
       "   CityID  Universities\n",
       "0  355030           160\n",
       "1  530010            72\n",
       "2  330455            69\n",
       "3  410690            58\n",
       "4  310620            54"
      ]
     },
     "execution_count": 35,
     "metadata": {},
     "output_type": "execute_result"
    }
   ],
   "source": [
    "#loading the file\n",
    "df_universities = pd.read_csv('SUP_IES_2019.CSV',encoding='iso-8859-1' ,sep='|')\n",
    "#counting the number of instituions by city\n",
    "df_universities_final = pd.DataFrame(df_universities[['CO_MUNICIPIO']].value_counts(),columns=['Universities'])\n",
    "df_universities_final.reset_index(inplace=True)\n",
    "#renaming columns\n",
    "df_universities_final.rename(columns = {'CO_MUNICIPIO':'CityID'},\n",
    "                              inplace = True)\n",
    "df_universities_final['CityID'] = df_universities_final['CityID'].astype(str).str[:6]\n",
    "df_universities_final.head()"
   ]
  },
  {
   "cell_type": "code",
   "execution_count": 36,
   "metadata": {},
   "outputs": [
    {
     "data": {
      "text/plain": [
       "730"
      ]
     },
     "execution_count": 36,
     "metadata": {},
     "output_type": "execute_result"
    }
   ],
   "source": [
    "len(df_universities_final)"
   ]
  },
  {
   "cell_type": "markdown",
   "metadata": {},
   "source": [
    "### 2.10. Public Libraries National System"
   ]
  },
  {
   "cell_type": "markdown",
   "metadata": {},
   "source": [
    "The Special Secretary of Culture has a <a href=\"http://snbp.cultura.gov.br/\">website</a> that gathers the data from the State Secretaries and all the public libraries. Again, we consider them a source of useful information that might prove vital to our survival. In this case, we have to process one file from each state."
   ]
  },
  {
   "cell_type": "code",
   "execution_count": 54,
   "metadata": {},
   "outputs": [
    {
     "name": "stderr",
     "output_type": "stream",
     "text": [
      "<ipython-input-54-eb41de33d165>:19: SettingWithCopyWarning: \n",
      "A value is trying to be set on a copy of a slice from a DataFrame.\n",
      "Try using .loc[row_indexer,col_indexer] = value instead\n",
      "\n",
      "See the caveats in the documentation: https://pandas.pydata.org/pandas-docs/stable/user_guide/indexing.html#returning-a-view-versus-a-copy\n",
      "  df_libraries_clean['citystate'] = (df_libraries_clean['MUNICÍPIO']+'-'+df_libraries_clean['estado']).str.lower()\n"
     ]
    },
    {
     "data": {
      "text/html": [
       "<div>\n",
       "<style scoped>\n",
       "    .dataframe tbody tr th:only-of-type {\n",
       "        vertical-align: middle;\n",
       "    }\n",
       "\n",
       "    .dataframe tbody tr th {\n",
       "        vertical-align: top;\n",
       "    }\n",
       "\n",
       "    .dataframe thead th {\n",
       "        text-align: right;\n",
       "    }\n",
       "</style>\n",
       "<table border=\"1\" class=\"dataframe\">\n",
       "  <thead>\n",
       "    <tr style=\"text-align: right;\">\n",
       "      <th></th>\n",
       "      <th>CityID</th>\n",
       "      <th>Libraries</th>\n",
       "    </tr>\n",
       "  </thead>\n",
       "  <tbody>\n",
       "    <tr>\n",
       "      <th>0</th>\n",
       "      <td>330455</td>\n",
       "      <td>103</td>\n",
       "    </tr>\n",
       "    <tr>\n",
       "      <th>1</th>\n",
       "      <td>355030</td>\n",
       "      <td>45</td>\n",
       "    </tr>\n",
       "    <tr>\n",
       "      <th>2</th>\n",
       "      <td>410690</td>\n",
       "      <td>24</td>\n",
       "    </tr>\n",
       "    <tr>\n",
       "      <th>3</th>\n",
       "      <td>310620</td>\n",
       "      <td>23</td>\n",
       "    </tr>\n",
       "    <tr>\n",
       "      <th>4</th>\n",
       "      <td>431490</td>\n",
       "      <td>23</td>\n",
       "    </tr>\n",
       "  </tbody>\n",
       "</table>\n",
       "</div>"
      ],
      "text/plain": [
       "   CityID  Libraries\n",
       "0  330455        103\n",
       "1  355030         45\n",
       "2  410690         24\n",
       "3  310620         23\n",
       "4  431490         23"
      ]
     },
     "execution_count": 54,
     "metadata": {},
     "output_type": "execute_result"
    }
   ],
   "source": [
    "#folder with all the state files\n",
    "path='libraries/'\n",
    "#creating an empty dataframe\n",
    "df_libraries = pd.DataFrame(columns=['MUNICÍPIO','NOME DA BIBLIOTECA','VÍNCULO','ENDEREÇO', 'BAIRRO','TELEFONE','E-MAIL','outro','estado'])\n",
    "#for each state\n",
    "for filename in os.listdir(path):\n",
    "        #read the file\n",
    "        df_temp = pd.read_csv(path+filename,skiprows=3)\n",
    "        #get stateID from filename\n",
    "        df_temp['estado'] = filename[-6:-4]\n",
    "        #add state dataframe to main dataframe\n",
    "        df_libraries = df_libraries.append(df_temp,ignore_index=True)\n",
    "\n",
    "#we need to fill the empty cells from 'MUNICÍPIO' with previous entry\n",
    "df_libraries['MUNICÍPIO'] = df_libraries['MUNICÍPIO'].fillna(method='ffill')\n",
    "#keeping only needed columns\n",
    "df_libraries_clean = df_libraries[['MUNICÍPIO','estado']]\n",
    "#turning the name and state into a single column, in lowercase\n",
    "df_libraries_clean['citystate'] = (df_libraries_clean['MUNICÍPIO']+'-'+df_libraries_clean['estado']).str.lower()\n",
    "#getting the cityID from the area dataset\n",
    "df_arealibrary = pd.merge(df_libraries_clean, df_area_clean, on='citystate', how='inner')\n",
    "df_libraries_final = pd.DataFrame(df_arealibrary[['CityID']].value_counts(),columns=['Libraries'])\n",
    "df_libraries_final.reset_index(inplace=True)\n",
    "df_libraries_final['CityID'] = df_libraries_final['CityID'].astype(int)\n",
    "df_libraries_final.head()"
   ]
  },
  {
   "cell_type": "code",
   "execution_count": 39,
   "metadata": {},
   "outputs": [
    {
     "data": {
      "text/plain": [
       "5067"
      ]
     },
     "execution_count": 39,
     "metadata": {},
     "output_type": "execute_result"
    }
   ],
   "source": [
    "len(df_libraries_final)"
   ]
  },
  {
   "cell_type": "markdown",
   "metadata": {},
   "source": [
    "### 2.11. Basedosdados.org"
   ]
  },
  {
   "cell_type": "markdown",
   "metadata": {},
   "source": [
    "This website is a great resource for anybody working with Data Science. They provide links to different data sets and also process unstructured files into usable files. One of them is the <a href=\"https://basedosdados.org/dataset/matriz-de-vizinhanca-municipios-brasileiros\">neighboring city matrix</a>. It is a two-column file, with two city IDs in each row, stating they are next to each other."
   ]
  },
  {
   "cell_type": "code",
   "execution_count": 41,
   "metadata": {},
   "outputs": [
    {
     "data": {
      "text/html": [
       "<div>\n",
       "<style scoped>\n",
       "    .dataframe tbody tr th:only-of-type {\n",
       "        vertical-align: middle;\n",
       "    }\n",
       "\n",
       "    .dataframe tbody tr th {\n",
       "        vertical-align: top;\n",
       "    }\n",
       "\n",
       "    .dataframe thead th {\n",
       "        text-align: right;\n",
       "    }\n",
       "</style>\n",
       "<table border=\"1\" class=\"dataframe\">\n",
       "  <thead>\n",
       "    <tr style=\"text-align: right;\">\n",
       "      <th></th>\n",
       "      <th>CityID_1</th>\n",
       "      <th>CityID_2</th>\n",
       "    </tr>\n",
       "  </thead>\n",
       "  <tbody>\n",
       "    <tr>\n",
       "      <th>0</th>\n",
       "      <td>170720</td>\n",
       "      <td>170025</td>\n",
       "    </tr>\n",
       "    <tr>\n",
       "      <th>1</th>\n",
       "      <td>170190</td>\n",
       "      <td>170025</td>\n",
       "    </tr>\n",
       "    <tr>\n",
       "      <th>2</th>\n",
       "      <td>170310</td>\n",
       "      <td>170025</td>\n",
       "    </tr>\n",
       "    <tr>\n",
       "      <th>3</th>\n",
       "      <td>170390</td>\n",
       "      <td>170025</td>\n",
       "    </tr>\n",
       "    <tr>\n",
       "      <th>4</th>\n",
       "      <td>170710</td>\n",
       "      <td>170025</td>\n",
       "    </tr>\n",
       "  </tbody>\n",
       "</table>\n",
       "</div>"
      ],
      "text/plain": [
       "  CityID_1 CityID_2\n",
       "0   170720   170025\n",
       "1   170190   170025\n",
       "2   170310   170025\n",
       "3   170390   170025\n",
       "4   170710   170025"
      ]
     },
     "execution_count": 41,
     "metadata": {},
     "output_type": "execute_result"
    }
   ],
   "source": [
    "#loading file\n",
    "df_neighbors = pd.read_csv('adjacency_matrix.csv')\n",
    "#renaming columns\n",
    "df_neighbors.rename(columns = {'id_munic_1':'CityID_1','id_munic_2':'CityID_2'},\n",
    "                              inplace = True)\n",
    "\n",
    "df_neighbors['CityID_1'] = df_neighbors['CityID_1'].astype(str).str[:6]\n",
    "df_neighbors['CityID_2'] = df_neighbors['CityID_2'].astype(str).str[:6]\n",
    "\n",
    "df_neighbors.head()"
   ]
  },
  {
   "cell_type": "markdown",
   "metadata": {},
   "source": [
    "### 2.12. GeoDataBR"
   ]
  },
  {
   "cell_type": "markdown",
   "metadata": {},
   "source": [
    "GeoDataBR is a <a href=\"https://github.com/tbrugz/geodata-br\">GitHub project</a> offering *geojson* files with the shape of the Brazilian cities."
   ]
  },
  {
   "cell_type": "code",
   "execution_count": 56,
   "metadata": {},
   "outputs": [],
   "source": [
    "city_json = 'geojs-100-mun.json'"
   ]
  },
  {
   "cell_type": "markdown",
   "metadata": {},
   "source": [
    "Let's show this file creating a map showcasing the Health Human Development Index distribution."
   ]
  },
  {
   "cell_type": "code",
   "execution_count": null,
   "metadata": {},
   "outputs": [],
   "source": [
    "map_brazil = folium.Map(location = [-15.793889, -47.882778],\n",
    "                       zoom_start=4)\n",
    "folium.Choropleth(\n",
    "    geo_data=city_json,\n",
    "    name='health',\n",
    "    data=df_atlas_clean,\n",
    "    columns=['CityID_7', 'Health_Index'],\n",
    "    key_on='properties.id',\n",
    "    fill_color='YlOrRd',\n",
    "    fill_opacity=0.7,\n",
    "    line_opacity=0.2,\n",
    "    legend_name='HealthIndex'\n",
    ").add_to(map_brazil)\n",
    "map_brazil"
   ]
  },
  {
   "cell_type": "markdown",
   "metadata": {},
   "source": [
    "## 3. Loaded Dataset"
   ]
  },
  {
   "cell_type": "code",
   "execution_count": null,
   "metadata": {},
   "outputs": [],
   "source": []
  },
  {
   "cell_type": "code",
   "execution_count": null,
   "metadata": {},
   "outputs": [],
   "source": []
  },
  {
   "cell_type": "code",
   "execution_count": null,
   "metadata": {},
   "outputs": [],
   "source": []
  },
  {
   "cell_type": "code",
   "execution_count": null,
   "metadata": {},
   "outputs": [],
   "source": []
  }
 ],
 "metadata": {
  "kernelspec": {
   "display_name": "Python 3",
   "language": "python",
   "name": "python3"
  },
  "language_info": {
   "codemirror_mode": {
    "name": "ipython",
    "version": 3
   },
   "file_extension": ".py",
   "mimetype": "text/x-python",
   "name": "python",
   "nbconvert_exporter": "python",
   "pygments_lexer": "ipython3",
   "version": "3.8.5"
  }
 },
 "nbformat": 4,
 "nbformat_minor": 4
}
