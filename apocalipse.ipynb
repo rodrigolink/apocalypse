{
 "cells": [
  {
   "cell_type": "markdown",
   "metadata": {},
   "source": [
    "# Welcome to the Brazilian Apocalypse!"
   ]
  },
  {
   "cell_type": "markdown",
   "metadata": {},
   "source": [
    "We are currently on the second year of the Coronavirus pandemic. It is obvious the institutions aren't ready to face extreme conditions for a prolonged period of time, and neither are the people. While there is a large community of paranoid people in the US who are ready to survive the extinction of civilization, in Brazil this scenario is not something we consider when thinking about the future."
   ]
  },
  {
   "cell_type": "markdown",
   "metadata": {},
   "source": [
    "Brazil is a country with continental dimensions, with more than 220 million people spread over 8.5 million square kilometers. There must be some dark forgotten places where one could ride out an extinction level event. There are more than five thousand cities and we will sort through different types of data to determine the best places to enjoy the end of the world."
   ]
  },
  {
   "cell_type": "markdown",
   "metadata": {},
   "source": [
    "After ranking the cities from best to worst, we will try to optimize our escape route, choosing our starting city and defining the sequence of cities to get to our final destination. "
   ]
  },
  {
   "cell_type": "markdown",
   "metadata": {},
   "source": [
    "## 1. Definition of the problem"
   ]
  },
  {
   "cell_type": "markdown",
   "metadata": {},
   "source": [
    "There are several different causes for an apocalypse, and people are getting more creative everyday. Zombies, nuclear war, large asteroids, deadly viruses, global warming, exploding volcanoes, massive earthquakes, alien invasion! Although there are huge variations on each of these scenarios, we can look for some information that will help no matter what comes our way. "
   ]
  },
  {
   "cell_type": "markdown",
   "metadata": {},
   "source": [
    "Crowded places should be avoided, food must be plentiful, fresh water must be available. We also need medication to cure and prevent diseases, and firearms for protection. It would be smart to be away from nuclear power plants, but solar energy might be useful. Average temperatures around 22 degrees are a good choice. Being close to an airport shoud be interesting, even a small one, for a quick getaway, if you can find and fly a plane. "
   ]
  },
  {
   "cell_type": "markdown",
   "metadata": {},
   "source": [
    "We should also be worried about rebuilding civilization, so we also looking at libraries and universities."
   ]
  },
  {
   "cell_type": "markdown",
   "metadata": {},
   "source": [
    "We will load data that helps to determine the potential for each city to fulfill one of this requirements, describing its source and how we create a metric to rank the cities. After processing all this information, our final data set will be a table where each row is a city and each column will show a score between 0 and 1 for a certain feature. Our last feature will be the sum of all scores, and we will rank the cities by this metric. Hopefully, we will have a clear winner for the whole country. "
   ]
  },
  {
   "cell_type": "markdown",
   "metadata": {},
   "source": [
    "We also have a list of neighboring cities for each location. So we can map a route from any place to the our sanctuary or try to find the best place at a certain distance from a starting point."
   ]
  },
  {
   "cell_type": "markdown",
   "metadata": {},
   "source": [
    "## 2. Loading"
   ]
  },
  {
   "cell_type": "code",
   "execution_count": null,
   "metadata": {},
   "outputs": [],
   "source": [
    "import folium\n",
    "import pandas as pd\n",
    "from bs4 import BeautifulSoup \n",
    "import requests \n",
    "import os"
   ]
  },
  {
   "cell_type": "markdown",
   "metadata": {},
   "source": [
    "## Altitude, Temperature and Rainfall"
   ]
  },
  {
   "cell_type": "code",
   "execution_count": null,
   "metadata": {},
   "outputs": [],
   "source": [
    "df_climate = pd.read_excel('KoppenBrazilianmunicipalities.xls', sheet_name='Data')"
   ]
  },
  {
   "cell_type": "code",
   "execution_count": null,
   "metadata": {},
   "outputs": [],
   "source": [
    "df_climate.head()"
   ]
  },
  {
   "cell_type": "code",
   "execution_count": null,
   "metadata": {},
   "outputs": [],
   "source": [
    "df_climate['mean_temp'] = df_climate[df_climate.columns[6:18]].mean(axis=1)\n",
    "df_climate['mean_rain'] = df_climate[df_climate.columns[18:]].mean(axis=1)\n",
    "\n",
    "df_climate_clean = df_climate[['Municipality', 'IBGE-Code','State', 'Altitude', 'mean_temp', 'mean_rain']]\n",
    "df_climate_clean.head()"
   ]
  },
  {
   "cell_type": "code",
   "execution_count": null,
   "metadata": {},
   "outputs": [],
   "source": [
    "df_climate_clean.loc[:,'IBGE-Code'] = df_climate_clean.loc[:,'IBGE-Code'].astype(str) "
   ]
  },
  {
   "cell_type": "code",
   "execution_count": null,
   "metadata": {},
   "outputs": [],
   "source": [
    "df_climate_clean.describe().T"
   ]
  },
  {
   "cell_type": "markdown",
   "metadata": {},
   "source": [
    "## Loading maps"
   ]
  },
  {
   "cell_type": "code",
   "execution_count": null,
   "metadata": {},
   "outputs": [],
   "source": [
    "city_json = 'geojs-100-mun.json'"
   ]
  },
  {
   "cell_type": "code",
   "execution_count": null,
   "metadata": {},
   "outputs": [],
   "source": [
    "map_brazil = folium.Map(location = [-15.793889, -47.882778],\n",
    "                       zoom_start=4)\n",
    "map_brazil"
   ]
  },
  {
   "cell_type": "code",
   "execution_count": null,
   "metadata": {},
   "outputs": [],
   "source": [
    "folium.Choropleth(\n",
    "    geo_data=city_json,\n",
    "    name='temperature',\n",
    "    data=df_climate_clean,\n",
    "    columns=['IBGE-Code', 'mean_temp'],\n",
    "    key_on='properties.id',\n",
    "    fill_color='YlOrRd',\n",
    "    fill_opacity=0.7,\n",
    "    line_opacity=0.2,\n",
    "    legend_name='Altitude'\n",
    ").add_to(map_brazil)"
   ]
  },
  {
   "cell_type": "code",
   "execution_count": null,
   "metadata": {},
   "outputs": [],
   "source": [
    "map_brazil"
   ]
  },
  {
   "cell_type": "markdown",
   "metadata": {},
   "source": [
    "## Population and Health Human Development Index"
   ]
  },
  {
   "cell_type": "code",
   "execution_count": null,
   "metadata": {},
   "outputs": [],
   "source": [
    "df_atlas = pd.read_excel('Atlas 2013_municipal, estadual e Brasil.xlsx', sheet_name='MUN 91-00-10')\n",
    "df_atlas = df_atlas[df_atlas['ANO']==2010]\n",
    "df_atlas_clean = df_atlas[['Codmun7','Município','pesotot','IDHM_L']]\n",
    "df_atlas_clean.loc[:,'Codmun7'] = df_atlas_clean.loc[:,'Codmun7'].astype(str)\n",
    "df_atlas_clean.head()"
   ]
  },
  {
   "cell_type": "code",
   "execution_count": null,
   "metadata": {},
   "outputs": [],
   "source": [
    "map_brazil = folium.Map(location = [-15.793889, -47.882778],\n",
    "                       zoom_start=4)\n",
    "folium.Choropleth(\n",
    "    geo_data=city_json,\n",
    "    name='idhm',\n",
    "    data=df_atlas_clean,\n",
    "    columns=['Codmun7', 'IDHM_L'],\n",
    "    key_on='properties.id',\n",
    "    fill_color='YlOrRd',\n",
    "    fill_opacity=0.7,\n",
    "    line_opacity=0.2,\n",
    "    legend_name='IDHM_L'\n",
    ").add_to(map_brazil)"
   ]
  },
  {
   "cell_type": "code",
   "execution_count": null,
   "metadata": {},
   "outputs": [],
   "source": [
    "map_brazil"
   ]
  },
  {
   "cell_type": "markdown",
   "metadata": {},
   "source": [
    "## Area"
   ]
  },
  {
   "cell_type": "code",
   "execution_count": null,
   "metadata": {},
   "outputs": [],
   "source": [
    "df_area = pd.read_excel('AR_BR_RG_UF_RGINT_RGIM_MES_MIC_MUN_2020.xls', sheet_name='AR_BR_MUN_2020')\n",
    "df_area_clean = df_area[['CD_GCMUN','NM_MUN_2020','AR_MUN_2020']]\n",
    "df_area_clean.loc[:,'CD_GCMUN'] = df_area_clean.loc[:,'CD_GCMUN'].astype(int).astype(str)\n",
    "df_area_clean.head()"
   ]
  },
  {
   "cell_type": "code",
   "execution_count": null,
   "metadata": {},
   "outputs": [],
   "source": [
    "map_brazil = folium.Map(location = [-15.793889, -47.882778],\n",
    "                       zoom_start=4)\n",
    "folium.Choropleth(\n",
    "    geo_data=city_json,\n",
    "    name='area',\n",
    "    data=df_area_clean,\n",
    "    columns=['CD_GCMUN', 'AR_MUN_2020'],\n",
    "    key_on='properties.id',\n",
    "    fill_color='YlOrRd',\n",
    "    fill_opacity=0.7,\n",
    "    line_opacity=0.2,\n",
    "    legend_name='area'\n",
    ").add_to(map_brazil)\n",
    "map_brazil"
   ]
  },
  {
   "cell_type": "markdown",
   "metadata": {},
   "source": [
    "## Solar incidence"
   ]
  },
  {
   "cell_type": "code",
   "execution_count": null,
   "metadata": {},
   "outputs": [],
   "source": [
    "df_solar = pd.read_csv('direct_normal_means_sedes-munic.csv',sep=';')\n",
    "df_solar_clean = df_solar[['LON','LAT','NAME','STATE','ANNUAL']]\n",
    "df_solar_clean.head()"
   ]
  },
  {
   "cell_type": "code",
   "execution_count": null,
   "metadata": {},
   "outputs": [],
   "source": [
    "df_solar_clean = df_solar_clean.replace(['ACRE', 'ALAGOAS', 'AMAPÁ', 'AMAZONAS', 'BAHIA', 'CEARÁ',\n",
    "       'DISTRITO FEDERAL', 'ESPÍRITO SANTO', 'GOIÁS', 'MARANHÃO',\n",
    "       'MATO GROSSO', 'MATO GROSSO DO SUL', 'MINAS GERAIS', 'PARÁ',\n",
    "       'PARAÍBA', 'PARANÁ', 'PERNAMBUCO', 'PIAUÍ', 'RIO DE JANEIRO',\n",
    "       'RIO GRANDE DO NORTE', 'RIO GRANDE DO SUL', 'RONDÔNIA', 'RORAIMA',\n",
    "       'SANTA CATARINA', 'SÃO PAULO', 'SERGIPE', 'TOCANTINS'],['AC', 'AL', 'AP', 'AM', 'BA', 'CE',\n",
    "       'DF', 'ES', 'GO', 'MA', 'MT', 'MS', 'MG', 'PA', 'PB', 'PR', 'PE', 'PI', 'RJ', 'RN', 'RS', \n",
    "        'RO', 'RR', 'SC', 'SP', 'SE', 'TO'])\n",
    "df_solar_clean.head()"
   ]
  },
  {
   "cell_type": "code",
   "execution_count": null,
   "metadata": {},
   "outputs": [],
   "source": [
    "df_solar_clean['citystate'] = df_solar_clean['NAME']+df_solar_clean['STATE']\n",
    "df_solar_clean.head()"
   ]
  },
  {
   "cell_type": "code",
   "execution_count": null,
   "metadata": {},
   "outputs": [],
   "source": [
    "df_climate_clean['citystate'] = df_climate_clean['Municipality']+df_climate_clean['State']\n",
    "df_climate_clean.head()"
   ]
  },
  {
   "cell_type": "code",
   "execution_count": null,
   "metadata": {},
   "outputs": [],
   "source": [
    "df_climatesolar = pd.merge(df_solar_clean, df_climate_clean, on='citystate', how='inner')\n",
    "df_climatesolar_clean = df_climatesolar[['Municipality','State','IBGE-Code','LON','LAT','Altitude','mean_temp','mean_rain','ANNUAL']]\n",
    "df_climatesolar_clean.head()"
   ]
  },
  {
   "cell_type": "markdown",
   "metadata": {},
   "source": [
    "## Energy sources"
   ]
  },
  {
   "cell_type": "code",
   "execution_count": null,
   "metadata": {},
   "outputs": [],
   "source": [
    "df_energy = pd.read_csv('EmpreendimentoOperacao.csv')\n",
    "df_energy = df_energy[['dscMunicipio','dscOrigemCombustivel','mdaPotenciaOutorgadakW']]\n",
    "df_energy = df_energy.dropna(axis = 0, how ='any')\n",
    "df_energy.head()"
   ]
  },
  {
   "cell_type": "code",
   "execution_count": null,
   "metadata": {},
   "outputs": [],
   "source": [
    "df_energy['pos'] = df_energy['dscMunicipio'].str.find('CodIbge:').astype(int)\n",
    "df_energy.head()"
   ]
  },
  {
   "cell_type": "code",
   "execution_count": null,
   "metadata": {},
   "outputs": [],
   "source": [
    "df_energy['CodMunic'] = df_energy.apply(lambda x: x['dscMunicipio'][x['pos']+9:x['pos']+16],axis=1)\n",
    "df_energy.head()"
   ]
  },
  {
   "cell_type": "code",
   "execution_count": null,
   "metadata": {},
   "outputs": [],
   "source": [
    "df_energy_clean = df_energy[['CodMunic','dscOrigemCombustivel','mdaPotenciaOutorgadakW']]\n",
    "df_energy_clean.head()"
   ]
  },
  {
   "cell_type": "code",
   "execution_count": null,
   "metadata": {},
   "outputs": [],
   "source": [
    "df_energy_clean['mdaPotenciaOutorgadakW'] = df_energy_clean['mdaPotenciaOutorgadakW'].astype(int)"
   ]
  },
  {
   "cell_type": "code",
   "execution_count": null,
   "metadata": {},
   "outputs": [],
   "source": [
    "df_energy_final =df_energy_clean.groupby(['CodMunic','dscOrigemCombustivel'], as_index=False).agg({'mdaPotenciaOutorgadakW':sum})\n",
    "df_energy_final.head()"
   ]
  },
  {
   "cell_type": "code",
   "execution_count": null,
   "metadata": {},
   "outputs": [],
   "source": [
    "df_energy_pivot = df_energy_final.pivot(index='CodMunic', columns='dscOrigemCombustivel', values='mdaPotenciaOutorgadakW')\n",
    "df_energy_pivot.reset_index(inplace=True)\n",
    "df_energy_pivot.head()"
   ]
  },
  {
   "cell_type": "markdown",
   "metadata": {},
   "source": [
    "## Hospital beds"
   ]
  },
  {
   "cell_type": "code",
   "execution_count": null,
   "metadata": {},
   "outputs": [],
   "source": [
    "df_hospital = pd.read_csv('leitoshospitalares.csv',sep=';')\n",
    "df_hospital.head()"
   ]
  },
  {
   "cell_type": "code",
   "execution_count": null,
   "metadata": {},
   "outputs": [],
   "source": [
    "df_hospital['Município'] = df_hospital.apply(lambda x: x['Município'][:6],axis=1)\n",
    "df_hospital.head()"
   ]
  },
  {
   "cell_type": "markdown",
   "metadata": {},
   "source": [
    "## Neighbor cities"
   ]
  },
  {
   "cell_type": "code",
   "execution_count": null,
   "metadata": {},
   "outputs": [],
   "source": [
    "df_neighbors = pd.read_csv('adjacency_matrix.csv')\n",
    "df_neighbors.head()"
   ]
  },
  {
   "cell_type": "markdown",
   "metadata": {},
   "source": [
    "## Agriculture production"
   ]
  },
  {
   "cell_type": "code",
   "execution_count": null,
   "metadata": {},
   "outputs": [],
   "source": [
    "df_agro1 = pd.read_excel('tabela1612.xlsx')\n",
    "df_agro2 = pd.read_excel('tabela1613.xlsx')\n",
    "df_agro = pd.merge(df_agro1, df_agro2, on=['Cód.','Município'], how='inner')\n",
    "df_agro = df_agro.fillna(0)\n",
    "df_agro['Total prod'] = (df_agro['Produto das lavouras temporárias'].astype(int) + df_agro['Produto das lavouras permanentes'].astype(int))/100.\n",
    "df_agro_clean = df_agro[['Cód.','Total prod']]\n",
    "df_agro_clean.head()"
   ]
  },
  {
   "cell_type": "markdown",
   "metadata": {},
   "source": [
    "## Airports"
   ]
  },
  {
   "cell_type": "code",
   "execution_count": null,
   "metadata": {},
   "outputs": [],
   "source": [
    "url = 'https://en.wikipedia.org/wiki/List_of_airports_in_Brazil'\n",
    "html_data = requests.get(url).text\n",
    "soup = BeautifulSoup(html_data,\"html5lib\") "
   ]
  },
  {
   "cell_type": "code",
   "execution_count": null,
   "metadata": {},
   "outputs": [],
   "source": [
    "#get the list\n",
    "table_contents = []\n",
    "table = soup.findAll('table')\n",
    "for row in table[0].findAll('tr'):\n",
    "    temp=[]\n",
    "    for cell in row.findAll('td'):\n",
    "        temp.append(cell.text)\n",
    "    table_contents.append(temp)\n",
    "table_contents[:5]"
   ]
  },
  {
   "cell_type": "code",
   "execution_count": null,
   "metadata": {},
   "outputs": [],
   "source": [
    "df_airports = pd.DataFrame(table_contents,columns=['Municipio','Estado','Sigla','Sigla2','Nome','outro'])\n",
    "df_airports = df_airports.drop([0]).reset_index(inplace=False)\n",
    "df_airports_clean = df_airports[['Municipio','Estado']]\n",
    "df_airports_clean.head()"
   ]
  },
  {
   "cell_type": "code",
   "execution_count": null,
   "metadata": {},
   "outputs": [],
   "source": [
    "df_airports_clean['Estado'] = df_airports_clean['Estado'].replace(['Acre', 'Alagoas', 'Amapá', 'Amazonas', 'Bahia', 'Ceará',\n",
    "       'Federal District', 'Espírito Santo', 'Goiás', 'Maranhão', 'Mato Grosso', 'Mato Grosso do Sul', \n",
    "        'Minas Gerais', 'Pará', 'Paraíba', 'Paraná', 'Pernambuco', 'Piauí', 'Rio de Janeiro',\n",
    "       'Rio Grande do Norte', 'Rio Grande do Sul', 'Rondônia', 'Roraima', 'Santa Catarina', 'São Paulo', \n",
    "        'Sergipe', 'Tocantins'],['AC', 'AL', 'AP', 'AM', 'BA', 'CE',\n",
    "       'DF', 'ES', 'GO', 'MA', 'MT', 'MS', 'MG', 'PA', 'PB', 'PR', 'PE', 'PI', 'RJ', 'RN', 'RS', \n",
    "        'RO', 'RR', 'SC', 'SP', 'SE', 'TO'])\n",
    "df_airports_clean.head()"
   ]
  },
  {
   "cell_type": "code",
   "execution_count": null,
   "metadata": {},
   "outputs": [],
   "source": [
    "df_airports_clean['citystate'] = df_airports_clean['Municipio']+df_airports_clean['Estado']\n",
    "df_climateairport = pd.merge(df_airports_clean, df_climate_clean, on='citystate', how='inner')\n",
    "df_climateairport.head()"
   ]
  },
  {
   "cell_type": "code",
   "execution_count": null,
   "metadata": {},
   "outputs": [],
   "source": [
    "df_airports_final = pd.DataFrame(df_climateairport[['IBGE-Code']].value_counts(),columns=['Airports'])\n",
    "df_airports_final.reset_index(inplace=True)\n",
    "df_airports_final.head()"
   ]
  },
  {
   "cell_type": "markdown",
   "metadata": {},
   "source": [
    "## Military Bases"
   ]
  },
  {
   "cell_type": "code",
   "execution_count": null,
   "metadata": {},
   "outputs": [],
   "source": [
    "url = 'https://en.wikipedia.org/wiki/List_of_Brazilian_military_bases'\n",
    "html_data = requests.get(url).text\n",
    "soup = BeautifulSoup(html_data,\"html5lib\") "
   ]
  },
  {
   "cell_type": "code",
   "execution_count": null,
   "metadata": {},
   "outputs": [],
   "source": [
    "#get the list\n",
    "table_contents = []\n",
    "tables = soup.findAll('table')\n",
    "for table in tables:\n",
    "    for row in table.findAll('tr'):\n",
    "        temp=[]\n",
    "        for cell in row.findAll('td'):\n",
    "            temp.append(cell.text)\n",
    "        table_contents.append(temp)\n",
    "table_contents[:5]"
   ]
  },
  {
   "cell_type": "code",
   "execution_count": null,
   "metadata": {},
   "outputs": [],
   "source": [
    "df_military = pd.DataFrame(table_contents,columns=['Location', 'State', 'ICAO', 'Code', 'Basename','outro1','outro2'])\n",
    "df_military = df_military.drop([0]).reset_index(inplace=False)\n",
    "df_military_clean = df_military[['Location','State']]\n",
    "df_military_clean.head()"
   ]
  },
  {
   "cell_type": "code",
   "execution_count": null,
   "metadata": {},
   "outputs": [],
   "source": [
    "df_military_clean['State'] = df_military_clean['State'].replace(['Acre', 'Alagoas', 'Amapá', 'Amazonas', 'Bahia', 'Ceará',\n",
    "       'Federal District', 'Espírito Santo', 'Goiás', 'Maranhão', 'Mato Grosso', 'Mato Grosso do Sul', \n",
    "        'Minas Gerais', 'Pará', 'Paraíba', 'Paraná', 'Pernambuco', 'Piauí', 'Rio de Janeiro',\n",
    "       'Rio Grande do Norte', 'Rio Grande do Sul', 'Rondônia', 'Roraima', 'Santa Catarina', 'São Paulo', \n",
    "        'Sergipe', 'Tocantins'],['AC', 'AL', 'AP', 'AM', 'BA', 'CE',\n",
    "       'DF', 'ES', 'GO', 'MA', 'MT', 'MS', 'MG', 'PA', 'PB', 'PR', 'PE', 'PI', 'RJ', 'RN', 'RS', \n",
    "        'RO', 'RR', 'SC', 'SP', 'SE', 'TO'])\n",
    "df_military_clean['citystate'] = df_military_clean['Location']+df_military_clean['State']\n",
    "df_climatemilitary = pd.merge(df_military_clean, df_climate_clean, on='citystate', how='inner')\n",
    "df_climatemilitary.head()"
   ]
  },
  {
   "cell_type": "code",
   "execution_count": null,
   "metadata": {},
   "outputs": [],
   "source": [
    "df_military_final = pd.DataFrame(df_climatemilitary[['IBGE-Code']].value_counts(),columns=['Military'])\n",
    "df_military_final.reset_index(inplace=True)\n",
    "df_military_final.head()"
   ]
  },
  {
   "cell_type": "markdown",
   "metadata": {},
   "source": [
    "## Libraries"
   ]
  },
  {
   "cell_type": "code",
   "execution_count": null,
   "metadata": {},
   "outputs": [],
   "source": [
    "path='libraries/'\n",
    "df_libraries = pd.DataFrame(columns=['MUNICÍPIO','NOME DA BIBLIOTECA','VÍNCULO','ENDEREÇO', 'BAIRRO','TELEFONE','E-MAIL','outro','estado'])\n",
    "for filename in os.listdir(path):\n",
    "        df_temp = pd.read_csv(path+filename,skiprows=3)\n",
    "        df_temp['estado'] = filename[-6:-4]\n",
    "        df_libraries = df_libraries.append(df_temp,ignore_index=True)\n",
    "df_libraries.head()"
   ]
  },
  {
   "cell_type": "code",
   "execution_count": null,
   "metadata": {},
   "outputs": [],
   "source": [
    "df_libraries['MUNICÍPIO'] = df_libraries['MUNICÍPIO'].fillna(method='ffill')\n",
    "df_libraries_clean = df_libraries[['MUNICÍPIO','estado']]\n",
    "df_libraries_clean['citystate'] = df_libraries_clean['MUNICÍPIO']+df_libraries_clean['estado']\n",
    "df_climatelibrary = pd.merge(df_libraries_clean, df_climate_clean, on='citystate', how='inner')\n",
    "df_libraries_final = pd.DataFrame(df_climatelibrary[['IBGE-Code']].value_counts(),columns=['Libraries'])\n",
    "df_libraries_final.reset_index(inplace=True)\n",
    "df_libraries_final.head()"
   ]
  },
  {
   "cell_type": "markdown",
   "metadata": {},
   "source": [
    "## Universities"
   ]
  },
  {
   "cell_type": "code",
   "execution_count": null,
   "metadata": {},
   "outputs": [],
   "source": [
    "df_universities = pd.read_csv('SUP_IES_2019.CSV',encoding='iso-8859-1' ,sep='|')\n",
    "df_universities_final = pd.DataFrame(df_universities[['CO_MUNICIPIO']].value_counts(),columns=['Universities'])\n",
    "df_universities_final.head()"
   ]
  },
  {
   "cell_type": "code",
   "execution_count": null,
   "metadata": {},
   "outputs": [],
   "source": []
  },
  {
   "cell_type": "code",
   "execution_count": null,
   "metadata": {},
   "outputs": [],
   "source": []
  }
 ],
 "metadata": {
  "kernelspec": {
   "display_name": "Python 3",
   "language": "python",
   "name": "python3"
  },
  "language_info": {
   "codemirror_mode": {
    "name": "ipython",
    "version": 3
   },
   "file_extension": ".py",
   "mimetype": "text/x-python",
   "name": "python",
   "nbconvert_exporter": "python",
   "pygments_lexer": "ipython3",
   "version": "3.8.5"
  }
 },
 "nbformat": 4,
 "nbformat_minor": 4
}
